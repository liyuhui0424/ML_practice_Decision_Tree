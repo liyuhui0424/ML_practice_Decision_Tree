{
 "cells": [
  {
   "cell_type": "code",
   "execution_count": 1,
   "metadata": {},
   "outputs": [],
   "source": [
    "import pandas as pd\n",
    "\n",
    "df = pd.read_csv('../data/sales.csv')\n",
    "df.dropna(subset=['price'], inplace=True)"
   ]
  },
  {
   "cell_type": "code",
   "execution_count": 2,
   "metadata": {},
   "outputs": [
    {
     "data": {
      "text/html": [
       "<div>\n",
       "<style scoped>\n",
       "    .dataframe tbody tr th:only-of-type {\n",
       "        vertical-align: middle;\n",
       "    }\n",
       "\n",
       "    .dataframe tbody tr th {\n",
       "        vertical-align: top;\n",
       "    }\n",
       "\n",
       "    .dataframe thead th {\n",
       "        text-align: right;\n",
       "    }\n",
       "</style>\n",
       "<table border=\"1\" class=\"dataframe\">\n",
       "  <thead>\n",
       "    <tr style=\"text-align: right;\">\n",
       "      <th></th>\n",
       "      <th>cost</th>\n",
       "      <th>price</th>\n",
       "      <th>weight</th>\n",
       "      <th>purchase_date</th>\n",
       "      <th>product_type</th>\n",
       "      <th>product_level</th>\n",
       "      <th>maker</th>\n",
       "      <th>ingredient</th>\n",
       "      <th>height</th>\n",
       "      <th>width</th>\n",
       "      <th>depth</th>\n",
       "    </tr>\n",
       "  </thead>\n",
       "  <tbody>\n",
       "    <tr>\n",
       "      <th>0</th>\n",
       "      <td>$333k</td>\n",
       "      <td>$300,492</td>\n",
       "      <td>3 Ton 90 Kg</td>\n",
       "      <td>Dec 19 2008</td>\n",
       "      <td>Q,B</td>\n",
       "      <td>advanced</td>\n",
       "      <td>M14122</td>\n",
       "      <td>IN732052,IN732053</td>\n",
       "      <td>2.76 meters</td>\n",
       "      <td>97 cm</td>\n",
       "      <td>26 cm</td>\n",
       "    </tr>\n",
       "    <tr>\n",
       "      <th>1</th>\n",
       "      <td>NaN</td>\n",
       "      <td>$430,570</td>\n",
       "      <td>3 Ton 30 Kg</td>\n",
       "      <td>Sep 10 1997</td>\n",
       "      <td>J,D</td>\n",
       "      <td>basic</td>\n",
       "      <td>NaN</td>\n",
       "      <td>IN732054,IN732055,IN732056,IN732057,IN732058</td>\n",
       "      <td>2.67 meters</td>\n",
       "      <td>98 cm</td>\n",
       "      <td>26 cm</td>\n",
       "    </tr>\n",
       "    <tr>\n",
       "      <th>2</th>\n",
       "      <td>$270k</td>\n",
       "      <td>$213,070</td>\n",
       "      <td>3 Ton 40 Kg</td>\n",
       "      <td>Sep 05 2001</td>\n",
       "      <td>J,D</td>\n",
       "      <td>basic</td>\n",
       "      <td>NaN</td>\n",
       "      <td>IN732054,IN732059,IN732060</td>\n",
       "      <td>3.0 meters</td>\n",
       "      <td>93 cm</td>\n",
       "      <td>24 cm</td>\n",
       "    </tr>\n",
       "    <tr>\n",
       "      <th>3</th>\n",
       "      <td>NaN</td>\n",
       "      <td>$229,174</td>\n",
       "      <td>3 Ton 50 Kg</td>\n",
       "      <td>Dec 23 2016</td>\n",
       "      <td>U</td>\n",
       "      <td>advanced</td>\n",
       "      <td>M14123</td>\n",
       "      <td>IN732061,IN732062,IN732063</td>\n",
       "      <td>2.5 meters</td>\n",
       "      <td>102 cm</td>\n",
       "      <td>27 cm</td>\n",
       "    </tr>\n",
       "    <tr>\n",
       "      <th>4</th>\n",
       "      <td>$97k</td>\n",
       "      <td>$122,659</td>\n",
       "      <td>2 Ton 970 Kg</td>\n",
       "      <td>Jan 12 2000</td>\n",
       "      <td>D,R</td>\n",
       "      <td>advanced</td>\n",
       "      <td>NaN</td>\n",
       "      <td>IN732064,IN732065,IN732066</td>\n",
       "      <td>2.47 meters</td>\n",
       "      <td>101 cm</td>\n",
       "      <td>26 cm</td>\n",
       "    </tr>\n",
       "  </tbody>\n",
       "</table>\n",
       "</div>"
      ],
      "text/plain": [
       "    cost     price        weight purchase_date product_type product_level  \\\n",
       "0  $333k  $300,492   3 Ton 90 Kg   Dec 19 2008          Q,B      advanced   \n",
       "1    NaN  $430,570   3 Ton 30 Kg   Sep 10 1997          J,D         basic   \n",
       "2  $270k  $213,070   3 Ton 40 Kg   Sep 05 2001          J,D         basic   \n",
       "3    NaN  $229,174   3 Ton 50 Kg   Dec 23 2016            U      advanced   \n",
       "4   $97k  $122,659  2 Ton 970 Kg   Jan 12 2000          D,R      advanced   \n",
       "\n",
       "    maker                                    ingredient       height   width  \\\n",
       "0  M14122                             IN732052,IN732053  2.76 meters   97 cm   \n",
       "1     NaN  IN732054,IN732055,IN732056,IN732057,IN732058  2.67 meters   98 cm   \n",
       "2     NaN                    IN732054,IN732059,IN732060   3.0 meters   93 cm   \n",
       "3  M14123                    IN732061,IN732062,IN732063   2.5 meters  102 cm   \n",
       "4     NaN                    IN732064,IN732065,IN732066  2.47 meters  101 cm   \n",
       "\n",
       "   depth  \n",
       "0  26 cm  \n",
       "1  26 cm  \n",
       "2  24 cm  \n",
       "3  27 cm  \n",
       "4  26 cm  "
      ]
     },
     "execution_count": 2,
     "metadata": {},
     "output_type": "execute_result"
    }
   ],
   "source": [
    "df.head()"
   ]
  },
  {
   "cell_type": "code",
   "execution_count": 3,
   "metadata": {},
   "outputs": [],
   "source": [
    "df['year'] = pd.to_datetime(df.purchase_date).dt.year\n",
    "train_raw = df[df.year < 2015].reset_index(drop=True)\n",
    "test_raw = df[df.year >= 2015].reset_index(drop=True)"
   ]
  },
  {
   "cell_type": "markdown",
   "metadata": {},
   "source": [
    "# 1. Random Forest"
   ]
  },
  {
   "cell_type": "markdown",
   "metadata": {},
   "source": [
    "<font color='red'>Assignment:</font> Build a pipeline with **RandomForestRegressor** to predict **price** with **cost**, **weight**, **height**, **width**, **depth**, and **volumn**."
   ]
  },
  {
   "cell_type": "code",
   "execution_count": 4,
   "metadata": {},
   "outputs": [],
   "source": [
    "y_train = train_raw['price'].map(lambda x: x if type(x) == float else float(x.strip('$').replace(',', '')))\n",
    "y_test = test_raw['price'].map(lambda x: x if type(x) == float else float(x.strip('$').replace(',', '')))\n",
    "\n",
    "def weight2num(x):\n",
    "    \"\"\"\n",
    "    This function transform weight string to numerical value.\n",
    "    \"\"\"\n",
    "    if type(x) == str: \n",
    "        y = x.split(\" Ton \")    \n",
    "        return float(y[0]) * 1000 + float(y[1].replace(' Kg',''))\n",
    "    else:\n",
    "        return x\n",
    "\n",
    "\n",
    "class Numerical_Transformer(object):\n",
    "    def fit(self, X, y=None):\n",
    "        self.mean = {}\n",
    "        df = pd.DataFrame()        \n",
    "        df['cost'] = X['cost'].map(lambda x: x if type(x) == float else float(x.strip('$').strip('k'))*1000)\n",
    "        self.mean['cost'] = df['cost'].mean()\n",
    "        df['weight'] = X['weight'].map(weight2num)\n",
    "        self.mean['weight'] = df['weight'].mean()\n",
    "        df['height'] = X['height'].map(lambda x: x if type(x) == float else float(x.replace('meters', '')))\n",
    "        self.mean['height'] = df['height'].mean()\n",
    "        df['width'] = X['width'].map(lambda x: x if type(x) == float else float(x.replace('cm', '')))\n",
    "        self.mean['width'] = df['width'].mean()\n",
    "        df['depth'] = X['depth'].map(lambda x: x if type(x) == float else float(x.replace('cm', '')))\n",
    "        self.mean['depth'] = df['depth'].mean()\n",
    "        \n",
    "    def transform(self, X, y=None):\n",
    "        df = pd.DataFrame()\n",
    "        df['cost'] = X['cost'].map(lambda x: x if type(x) == float else float(x.strip('$').strip('k'))*1000)\n",
    "        df['weight'] = X['weight'].map(weight2num)\n",
    "        df['height'] = X['height'].map(lambda x: x if type(x) == float else float(x.replace('meters', '')))\n",
    "        df['width'] = X['width'].map(lambda x: x if type(x) == float else float(x.replace('cm', '')))\n",
    "        df['depth'] = X['depth'].map(lambda x: x if type(x) == float else float(x.replace('cm', '')))\n",
    "        return df.fillna(self.mean)\n",
    "    \n",
    "    def fit_transform(self, X, y=None):\n",
    "        self.fit(X)\n",
    "        return self.transform(X)"
   ]
  },
  {
   "cell_type": "code",
   "execution_count": 22,
   "metadata": {},
   "outputs": [
    {
     "data": {
      "text/plain": [
       "Pipeline(steps=[('ntf',\n",
       "                 <__main__.Numerical_Transformer object at 0x000001FC94A90BE0>),\n",
       "                ('norm', StandardScaler()),\n",
       "                ('rfr',\n",
       "                 RandomForestRegressor(max_depth=3, min_samples_split=5))])"
      ]
     },
     "execution_count": 22,
     "metadata": {},
     "output_type": "execute_result"
    }
   ],
   "source": [
    "from sklearn.ensemble import RandomForestRegressor\n",
    "from sklearn.metrics import mean_absolute_error, mean_squared_error, r2_score\n",
    "from sklearn.pipeline import Pipeline\n",
    "from sklearn.preprocessing import StandardScaler\n",
    "\n",
    "steps = [('ntf', Numerical_Transformer()),\n",
    "         ('norm', StandardScaler()),\n",
    "         ('rfr', RandomForestRegressor(max_depth=3, min_samples_split=5))]\n",
    "\n",
    "model = Pipeline(steps)\n",
    "\n",
    "model.fit(train_raw, y_train)\n"
   ]
  },
  {
   "cell_type": "markdown",
   "metadata": {},
   "source": [
    "<font color='red'>Assignment:</font> Calculate the train/test scores."
   ]
  },
  {
   "cell_type": "code",
   "execution_count": 23,
   "metadata": {},
   "outputs": [
    {
     "name": "stdout",
     "output_type": "stream",
     "text": [
      "train MAE: 1.04e+05\n",
      "train MSE: 2.51e+10\n",
      "train R2: 0.411\n",
      "train MAE: 1.30e+05\n",
      "train MSE: 5.42e+10\n",
      "train R2: 0.371\n"
     ]
    }
   ],
   "source": [
    "model.fit(train_raw, y_train)\n",
    "y_train_pred = model.predict(train_raw)\n",
    "print('train MAE: {0:.2e}'.format(mean_absolute_error(y_train, y_train_pred)))\n",
    "print('train MSE: {0:.2e}'.format(mean_squared_error(y_train, y_train_pred)))\n",
    "print('train R2: {0:.3f}'.format(r2_score(y_train, y_train_pred)))\n",
    "\n",
    "y_test_pred = model.predict(test_raw)\n",
    "print('train MAE: {0:.2e}'.format(mean_absolute_error(y_test, y_test_pred)))\n",
    "print('train MSE: {0:.2e}'.format(mean_squared_error(y_test, y_test_pred)))\n",
    "print('train R2: {0:.3f}'.format(r2_score(y_test, y_test_pred)))"
   ]
  },
  {
   "cell_type": "markdown",
   "metadata": {},
   "source": [
    "<font color='red'>Assignment:</font> Plot the feature importance in a bar chart."
   ]
  },
  {
   "cell_type": "code",
   "execution_count": 24,
   "metadata": {},
   "outputs": [
    {
     "data": {
      "text/plain": [
       "<BarContainer object of 5 artists>"
      ]
     },
     "execution_count": 24,
     "metadata": {},
     "output_type": "execute_result"
    },
    {
     "data": {
      "image/png": "[encoded data removed]",
      "text/plain": [
       "<Figure size 640x480 with 1 Axes>"
      ]
     },
     "metadata": {},
     "output_type": "display_data"
    }
   ],
   "source": [
    "import matplotlib.pylab as plt\n",
    "%matplotlib inline\n",
    "\n",
    "plt.bar(['cost','weight','height','width','depth'], model[2].feature_importances_)"
   ]
  },
  {
   "cell_type": "markdown",
   "metadata": {},
   "source": [
    "<font color='red'>Question:</font> How does Random Forest work? Why is it better than a single decision tree?"
   ]
  },
  {
   "cell_type": "code",
   "execution_count": null,
   "metadata": {},
   "outputs": [],
   "source": [
    "# Random Forest is a way of averaging multiple decision trees. Forests give the effects of k-fold cross-validation. Thus it \n",
    "# efficiently prevents overfitting that usually happens when using a single decision tree."
   ]
  },
  {
   "cell_type": "markdown",
   "metadata": {},
   "source": [
    "<font color='red'>Question:</font> Why is Random Forest better than a single decision tree? How does it decrease model error? How does it affect bias and virance?"
   ]
  },
  {
   "cell_type": "code",
   "execution_count": null,
   "metadata": {},
   "outputs": [],
   "source": [
    "# Random Forests take the teamwork of many trees thus improving the performance of a single random tree. The technique use \n",
    "# bagging (bootstrap aggregating) on the training data set to train multiple decision trees, and use the avearge of all the \n",
    "# tree's prediction ot predict the result. Bagging de-correlates the trees by training them with different data set, so while\n",
    "# the performance of a single tree is sensitive to the noise of the training data set, the average of all trees is not, thus \n",
    "# Random Forest decreases model error. It reduces virance while not affect bias."
   ]
  },
  {
   "cell_type": "markdown",
   "metadata": {},
   "source": [
    "<font color='red'>Question:</font> What is Bagging?"
   ]
  },
  {
   "cell_type": "code",
   "execution_count": null,
   "metadata": {},
   "outputs": [],
   "source": [
    "# Bagging, or bootstrap aggregating is a data resampling method. It resamples the data with many times, each time resamples the \n",
    "# same size of data points from the original data set but with replacement (so some data points may be sampled multiple times, \n",
    "# while some data point may not be sampled). "
   ]
  },
  {
   "cell_type": "markdown",
   "metadata": {},
   "source": [
    "<font color='red'>Assignment:</font> Tune hyperparameters with k-fold cross validation to optimize model performance."
   ]
  },
  {
   "cell_type": "code",
   "execution_count": 26,
   "metadata": {},
   "outputs": [],
   "source": [
    "from sklearn.model_selection import KFold\n",
    "from sklearn.model_selection import GridSearchCV\n",
    "from sklearn.metrics import make_scorer\n",
    "import numpy as np\n",
    "\n",
    "kf = KFold(n_splits=5, shuffle=True, random_state=2023)\n",
    "\n",
    "scorer_method = make_scorer(mean_squared_error, greater_is_better=False)\n",
    "\n",
    "steps = [('ntf', Numerical_Transformer()),\n",
    "         ('norm', StandardScaler()),\n",
    "         ('rfr', RandomForestRegressor())]\n",
    "\n",
    "model = Pipeline(steps)\n",
    "\n",
    "model = Pipeline(steps)\n",
    "\n",
    "n_estimators = [5, 10, 20, 50, 100, 200]\n",
    "max_depths = range(1, 10)\n",
    "min_samples_splits = range(2, 5)\n",
    "\n",
    "\n",
    "grid = dict()\n",
    "#grid['lr__alpha'] = lasso_alphas \n",
    "grid['rfr__n_estimators'] = n_estimators\n",
    "grid['rfr__max_depth'] = max_depths\n",
    "grid['rfr__min_samples_split'] = min_samples_splits \n",
    "\n",
    "\n",
    "search = GridSearchCV(model, param_grid = grid, scoring = scorer_method, \\\n",
    "                      cv = kf, n_jobs = -1, error_score = np.NaN).fit(train_raw, y_train)"
   ]
  },
  {
   "cell_type": "code",
   "execution_count": 27,
   "metadata": {},
   "outputs": [
    {
     "name": "stdout",
     "output_type": "stream",
     "text": [
      "MAE: -27081263671.25480\n",
      "Config: {'rfr__max_depth': 3, 'rfr__min_samples_split': 2, 'rfr__n_estimators': 5}\n"
     ]
    }
   ],
   "source": [
    "print('MAE: %.5f' % search.best_score_)\n",
    "print('Config: %s' % search.best_params_)"
   ]
  },
  {
   "cell_type": "code",
   "execution_count": 28,
   "metadata": {},
   "outputs": [
    {
     "name": "stdout",
     "output_type": "stream",
     "text": [
      "train MAE: 1.05e+05\n",
      "train MSE: 2.48e+10\n",
      "train R2: 0.419\n",
      "train MAE: 1.31e+05\n",
      "train MSE: 5.45e+10\n",
      "train R2: 0.367\n"
     ]
    }
   ],
   "source": [
    "y_train_pred = search.predict(train_raw)\n",
    "print('train MAE: {0:.2e}'.format(mean_absolute_error(y_train, y_train_pred)))\n",
    "print('train MSE: {0:.2e}'.format(mean_squared_error(y_train, y_train_pred)))\n",
    "print('train R2: {0:.3f}'.format(r2_score(y_train, y_train_pred)))\n",
    "\n",
    "y_test_pred = search.predict(test_raw)\n",
    "print('train MAE: {0:.2e}'.format(mean_absolute_error(y_test, y_test_pred)))\n",
    "print('train MSE: {0:.2e}'.format(mean_squared_error(y_test, y_test_pred)))\n",
    "print('train R2: {0:.3f}'.format(r2_score(y_test, y_test_pred)))"
   ]
  },
  {
   "cell_type": "code",
   "execution_count": 43,
   "metadata": {},
   "outputs": [
    {
     "name": "stdout",
     "output_type": "stream",
     "text": [
      "train MAE: 4.29e+04\n",
      "train MSE: 4.31e+09\n",
      "train R2: 0.899\n",
      "train MAE: 1.29e+05\n",
      "train MSE: 5.35e+10\n",
      "train R2: 0.379\n"
     ]
    }
   ],
   "source": [
    "steps = [('ntf', Numerical_Transformer()),\n",
    "         ('norm', StandardScaler()),\n",
    "         ('rfr', RandomForestRegressor(n_estimators=1000))]\n",
    "\n",
    "model1 = Pipeline(steps)\n",
    "\n",
    "model1.fit(train_raw, y_train)\n",
    "y_train_pred = model1.predict(train_raw)\n",
    "print('train MAE: {0:.2e}'.format(mean_absolute_error(y_train, y_train_pred)))\n",
    "print('train MSE: {0:.2e}'.format(mean_squared_error(y_train, y_train_pred)))\n",
    "print('train R2: {0:.3f}'.format(r2_score(y_train, y_train_pred)))\n",
    "\n",
    "y_test_pred = model1.predict(test_raw)\n",
    "print('train MAE: {0:.2e}'.format(mean_absolute_error(y_test, y_test_pred)))\n",
    "print('train MSE: {0:.2e}'.format(mean_squared_error(y_test, y_test_pred)))\n",
    "print('train R2: {0:.3f}'.format(r2_score(y_test, y_test_pred)))"
   ]
  },
  {
   "cell_type": "markdown",
   "metadata": {},
   "source": [
    "<font color='red'>Question:</font> What are the hyper parameters which can effetively affect model performance? How do they affect the performance respectively?"
   ]
  },
  {
   "cell_type": "code",
   "execution_count": null,
   "metadata": {},
   "outputs": [],
   "source": [
    "# n_estimators should be set big enough to reduce the variance. Surprisingly, when n_estimators is big enough, setting the other\n",
    "# hyper parameters will increases variance in this case."
   ]
  },
  {
   "cell_type": "markdown",
   "metadata": {},
   "source": [
    "# 2. Gradient Boosting Trees"
   ]
  },
  {
   "cell_type": "markdown",
   "metadata": {},
   "source": [
    "<font color='red'>Assignment:</font> Build a pipeline with **GradientBoostingRegressor** to predict **price** with **cost**, **weight**, **height**, **width**, **depth**, and **volumn**."
   ]
  },
  {
   "cell_type": "code",
   "execution_count": 58,
   "metadata": {},
   "outputs": [
    {
     "data": {
      "text/plain": [
       "Pipeline(steps=[('ntf',\n",
       "                 <__main__.Numerical_Transformer object at 0x000001FCA3A29E50>),\n",
       "                ('norm', StandardScaler()),\n",
       "                ('gbr',\n",
       "                 GradientBoostingRegressor(learning_rate=0.01,\n",
       "                                           n_estimators=1000))])"
      ]
     },
     "execution_count": 58,
     "metadata": {},
     "output_type": "execute_result"
    }
   ],
   "source": [
    "from sklearn.ensemble import GradientBoostingRegressor\n",
    "\n",
    "steps = [('ntf', Numerical_Transformer()),\n",
    "         ('norm', StandardScaler()),\n",
    "         ('gbr', GradientBoostingRegressor(n_estimators=1000, learning_rate=0.01))]\n",
    "\n",
    "model = Pipeline(steps)\n",
    "\n",
    "model.fit(train_raw, y_train)\n",
    "\n"
   ]
  },
  {
   "cell_type": "markdown",
   "metadata": {},
   "source": [
    "<font color='red'>Assignment:</font> Calculate the train/test scores."
   ]
  },
  {
   "cell_type": "code",
   "execution_count": 59,
   "metadata": {},
   "outputs": [
    {
     "name": "stdout",
     "output_type": "stream",
     "text": [
      "train MAE: 9.50e+04\n",
      "train MSE: 2.01e+10\n",
      "train R2: 0.528\n",
      "train MAE: 1.26e+05\n",
      "train MSE: 5.31e+10\n",
      "train R2: 0.384\n"
     ]
    }
   ],
   "source": [
    "model.fit(train_raw, y_train)\n",
    "y_train_pred = model.predict(train_raw)\n",
    "print('train MAE: {0:.2e}'.format(mean_absolute_error(y_train, y_train_pred)))\n",
    "print('train MSE: {0:.2e}'.format(mean_squared_error(y_train, y_train_pred)))\n",
    "print('train R2: {0:.3f}'.format(r2_score(y_train, y_train_pred)))\n",
    "\n",
    "y_test_pred = model.predict(test_raw)\n",
    "print('train MAE: {0:.2e}'.format(mean_absolute_error(y_test, y_test_pred)))\n",
    "print('train MSE: {0:.2e}'.format(mean_squared_error(y_test, y_test_pred)))\n",
    "print('train R2: {0:.3f}'.format(r2_score(y_test, y_test_pred)))"
   ]
  },
  {
   "cell_type": "markdown",
   "metadata": {},
   "source": [
    "<font color='red'>Assignment:</font> Plot the feature importance in a bar chart."
   ]
  },
  {
   "cell_type": "code",
   "execution_count": 60,
   "metadata": {},
   "outputs": [
    {
     "data": {
      "text/plain": [
       "<BarContainer object of 5 artists>"
      ]
     },
     "execution_count": 60,
     "metadata": {},
     "output_type": "execute_result"
    },
    {
     "data": {
      "image/png": "[encoded data removed]",
      "text/plain": [
       "<Figure size 640x480 with 1 Axes>"
      ]
     },
     "metadata": {},
     "output_type": "display_data"
    }
   ],
   "source": [
    "plt.bar(['cost','weight','height','width','depth'], model[2].feature_importances_)"
   ]
  },
  {
   "cell_type": "markdown",
   "metadata": {},
   "source": [
    "<font color='red'>Question:</font> How does gradient boosting tree work? "
   ]
  },
  {
   "cell_type": "code",
   "execution_count": null,
   "metadata": {},
   "outputs": [],
   "source": [
    "# Gradient boosting tree weak learners into a strong learner in an iterative fashion.The algorithm repeatly improve the model\n",
    "# by fitting the risiduals between the previous model prediction and the actual observation value."
   ]
  },
  {
   "cell_type": "markdown",
   "metadata": {},
   "source": [
    "<font color='red'>Question:</font> What is boosting?"
   ]
  },
  {
   "cell_type": "code",
   "execution_count": null,
   "metadata": {},
   "outputs": [],
   "source": [
    "# Boosting is a method in machine learning to reduce errors in preditive data analysis. Boosting tries to overcome predicting \n",
    "# errors by training multiple models sequentially to improve accuracy of the overall system."
   ]
  },
  {
   "cell_type": "markdown",
   "metadata": {},
   "source": [
    "<font color='red'>Question:</font> Compare gradient boosting trees and random forest. What are the pros and cons of these two models?"
   ]
  },
  {
   "cell_type": "code",
   "execution_count": null,
   "metadata": {},
   "outputs": [],
   "source": [
    "# Random forest combines multiple single trees to work simultaneously while gradient boosting trees train the decision trees \n",
    "# sequentially. \n",
    "# Gradient boosting trees outperform random forest if the hyper parameters are well-tuned. However, it is more difficult to \n",
    "# the parameters in Gradient boosting trees. The gradient boosting trees also tend to over-fit when the data is noisy."
   ]
  },
  {
   "cell_type": "markdown",
   "metadata": {},
   "source": [
    "<font color='red'>Assignment:</font> Tune hyperparameters with k-fold cross validation to optimize model performance."
   ]
  },
  {
   "cell_type": "code",
   "execution_count": 69,
   "metadata": {},
   "outputs": [],
   "source": [
    "kf = KFold(n_splits=5, shuffle=True, random_state=2023)\n",
    "\n",
    "scorer_method = make_scorer(mean_squared_error, greater_is_better=False)\n",
    "\n",
    "steps = [('ntf', Numerical_Transformer()),\n",
    "         ('norm', StandardScaler()),\n",
    "         ('gbr', GradientBoostingRegressor())]\n",
    "\n",
    "model = Pipeline(steps)\n",
    "\n",
    "model = Pipeline(steps)\n",
    "\n",
    "n_estimators = [5, 10, 20, 50, 100, 200, 500, 1000]\n",
    "learning_rate = [0.001, 0.01, 0.1, 1]\n",
    "min_samples_splits = range(2, 10)\n",
    "\n",
    "grid = dict()\n",
    "#grid['lr__alpha'] = lasso_alphas \n",
    "grid['gbr__n_estimators'] = n_estimators\n",
    "grid['gbr__learning_rate'] = learning_rate\n",
    "grid['gbr__min_samples_split'] = min_samples_splits\n",
    "\n",
    "search = GridSearchCV(model, param_grid = grid, scoring = scorer_method, \\\n",
    "                      cv = kf, n_jobs = -1, error_score = np.NaN).fit(train_raw, y_train)"
   ]
  },
  {
   "cell_type": "code",
   "execution_count": 70,
   "metadata": {},
   "outputs": [
    {
     "name": "stdout",
     "output_type": "stream",
     "text": [
      "MAE: -27562138030.26377\n",
      "Config: {'gbr__learning_rate': 0.1, 'gbr__min_samples_split': 6, 'gbr__n_estimators': 50}\n"
     ]
    }
   ],
   "source": [
    "print('MAE: %.5f' % search.best_score_)\n",
    "print('Config: %s' % search.best_params_)"
   ]
  },
  {
   "cell_type": "code",
   "execution_count": 71,
   "metadata": {},
   "outputs": [
    {
     "name": "stdout",
     "output_type": "stream",
     "text": [
      "train MAE: 9.83e+04\n",
      "train MSE: 2.19e+10\n",
      "train R2: 0.486\n",
      "train MAE: 1.26e+05\n",
      "train MSE: 5.31e+10\n",
      "train R2: 0.384\n"
     ]
    }
   ],
   "source": [
    "y_train_pred = search.predict(train_raw)\n",
    "print('train MAE: {0:.2e}'.format(mean_absolute_error(y_train, y_train_pred)))\n",
    "print('train MSE: {0:.2e}'.format(mean_squared_error(y_train, y_train_pred)))\n",
    "print('train R2: {0:.3f}'.format(r2_score(y_train, y_train_pred)))\n",
    "\n",
    "y_test_pred = search.predict(test_raw)\n",
    "print('train MAE: {0:.2e}'.format(mean_absolute_error(y_test, y_test_pred)))\n",
    "print('train MSE: {0:.2e}'.format(mean_squared_error(y_test, y_test_pred)))\n",
    "print('train R2: {0:.3f}'.format(r2_score(y_test, y_test_pred)))"
   ]
  },
  {
   "cell_type": "markdown",
   "metadata": {},
   "source": [
    "<font color='red'>Question:</font> What are the hyper parameters which can effetively affect model performance? How do they affect the performance respectively?"
   ]
  },
  {
   "cell_type": "code",
   "execution_count": null,
   "metadata": {},
   "outputs": [],
   "source": [
    "# Learning rate and n_estimator can affect model performance. Learning rate control how fast the outcome from each tree will \n",
    "# be scaled. n_estimator controls the number of the trees. If the learning rate is small, it takes more n_estimator to train\n",
    "# the model."
   ]
  },
  {
   "cell_type": "markdown",
   "metadata": {},
   "source": [
    "# 3. Xgboost"
   ]
  },
  {
   "cell_type": "markdown",
   "metadata": {},
   "source": [
    "<font color='red'>Assignment:</font> Build a pipeline with **XGBRegressor** to predict **price** with **cost**, **weight**, **height**, **width**, **depth**, and **volumn**."
   ]
  },
  {
   "cell_type": "code",
   "execution_count": 74,
   "metadata": {},
   "outputs": [
    {
     "name": "stdout",
     "output_type": "stream",
     "text": [
      "Collecting package metadata (current_repodata.json): ...working... done\n",
      "Note: you may need to restart the kernel to use updated packages.\n"
     ]
    },
    {
     "name": "stderr",
     "output_type": "stream",
     "text": [
      "\n",
      "\n",
      "==> WARNING: A newer version of conda exists. <==\n",
      "  current version: 22.11.0\n",
      "  latest version: 22.11.1\n",
      "\n",
      "Please update conda by running\n",
      "\n",
      "    $ conda update -n base -c defaults conda\n",
      "\n",
      "Or to minimize the number of packages updated during conda update use\n",
      "\n",
      "     conda install conda=22.11.1\n",
      "\n",
      "\n"
     ]
    },
    {
     "name": "stdout",
     "output_type": "stream",
     "text": [
      "\n",
      "Solving environment: ...working... done\n",
      "\n",
      "## Package Plan ##\n",
      "\n",
      "  environment location: C:\\Users\\liyuh\\anaconda3\n",
      "\n",
      "  added / updated specs:\n",
      "    - xgboost\n",
      "\n",
      "\n",
      "The following packages will be downloaded:\n",
      "\n",
      "    package                    |            build\n",
      "    ---------------------------|-----------------\n",
      "    _py-xgboost-mutex-2.0      |            cpu_0          11 KB  conda-forge\n",
      "    conda-22.11.1              |   py39hcbf5309_1         908 KB  conda-forge\n",
      "    libxgboost-1.5.0           |       hd77b12b_2         1.3 MB\n",
      "    py-xgboost-1.5.0           |   py39haa95532_2         156 KB\n",
      "    python_abi-3.9             |           2_cp39           4 KB  conda-forge\n",
      "    xgboost-1.5.0              |   py39haa95532_2          15 KB\n",
      "    ------------------------------------------------------------\n",
      "                                           Total:         2.4 MB\n",
      "\n",
      "The following NEW packages will be INSTALLED:\n",
      "\n",
      "  _py-xgboost-mutex  conda-forge/win-64::_py-xgboost-mutex-2.0-cpu_0 \n",
      "  libxgboost         pkgs/main/win-64::libxgboost-1.5.0-hd77b12b_2 \n",
      "  py-xgboost         pkgs/main/win-64::py-xgboost-1.5.0-py39haa95532_2 \n",
      "  python_abi         conda-forge/win-64::python_abi-3.9-2_cp39 \n",
      "  xgboost            pkgs/main/win-64::xgboost-1.5.0-py39haa95532_2 \n",
      "\n",
      "The following packages will be UPDATED:\n",
      "\n",
      "  conda              pkgs/main::conda-22.11.0-py39haa95532~ --> conda-forge::conda-22.11.1-py39hcbf5309_1 \n",
      "\n",
      "\n",
      "\n",
      "Downloading and Extracting Packages\n",
      "\n",
      "python_abi-3.9       | 4 KB      |            |   0% \n",
      "\n",
      "py-xgboost-1.5.0     | 156 KB    |            |   0% \u001b[A\n",
      "\n",
      "\n",
      "conda-22.11.1        | 908 KB    |            |   0% \u001b[A\u001b[A\n",
      "\n",
      "\n",
      "\n",
      "libxgboost-1.5.0     | 1.3 MB    |            |   0% \u001b[A\u001b[A\u001b[A\n",
      "\n",
      "\n",
      "\n",
      "\n",
      "xgboost-1.5.0        | 15 KB     |            |   0% \u001b[A\u001b[A\u001b[A\u001b[A\n",
      "\n",
      "\n",
      "\n",
      "\n",
      "\n",
      "_py-xgboost-mutex-2. | 11 KB     |            |   0% \u001b[A\u001b[A\u001b[A\u001b[A\u001b[A\n",
      "python_abi-3.9       | 4 KB      | ########## | 100% \n",
      "python_abi-3.9       | 4 KB      | ########## | 100% \n",
      "\n",
      "py-xgboost-1.5.0     | 156 KB    | #          |  10% \u001b[A\n",
      "\n",
      "\n",
      "\n",
      "\n",
      "\n",
      "_py-xgboost-mutex-2. | 11 KB     | ########## | 100% \u001b[A\u001b[A\u001b[A\u001b[A\u001b[A\n",
      "\n",
      "\n",
      "\n",
      "\n",
      "\n",
      "_py-xgboost-mutex-2. | 11 KB     | ########## | 100% \u001b[A\u001b[A\u001b[A\u001b[A\u001b[A\n",
      "\n",
      "\n",
      "\n",
      "libxgboost-1.5.0     | 1.3 MB    | 1          |   1% \u001b[A\u001b[A\u001b[A\n",
      "\n",
      "\n",
      "conda-22.11.1        | 908 KB    | 1          |   2% \u001b[A\u001b[A\n",
      "\n",
      "\n",
      "conda-22.11.1        | 908 KB    | 3          |   4% \u001b[A\u001b[A\n",
      "\n",
      "\n",
      "\n",
      "libxgboost-1.5.0     | 1.3 MB    | 2          |   2% \u001b[A\u001b[A\u001b[A\n",
      "\n",
      "py-xgboost-1.5.0     | 156 KB    | ##         |  20% \u001b[A\n",
      "\n",
      "\n",
      "\n",
      "libxgboost-1.5.0     | 1.3 MB    | 3          |   4% \u001b[A\u001b[A\u001b[A\n",
      "\n",
      "\n",
      "conda-22.11.1        | 908 KB    | 5          |   5% \u001b[A\u001b[A\n",
      "\n",
      "\n",
      "\n",
      "libxgboost-1.5.0     | 1.3 MB    | 8          |   8% \u001b[A\u001b[A\u001b[A\n",
      "\n",
      "py-xgboost-1.5.0     | 156 KB    | ####       |  41% \u001b[A\n",
      "\n",
      "\n",
      "conda-22.11.1        | 908 KB    | 7          |   7% \u001b[A\u001b[A\n",
      "\n",
      "\n",
      "conda-22.11.1        | 908 KB    | #          |  11% \u001b[A\u001b[A\n",
      "\n",
      "\n",
      "\n",
      "libxgboost-1.5.0     | 1.3 MB    | 9          |   9% \u001b[A\u001b[A\u001b[A\n",
      "\n",
      "py-xgboost-1.5.0     | 156 KB    | #####1     |  51% \u001b[A\n",
      "\n",
      "\n",
      "conda-22.11.1        | 908 KB    | #4         |  14% \u001b[A\u001b[A\n",
      "\n",
      "\n",
      "\n",
      "libxgboost-1.5.0     | 1.3 MB    | #1         |  12% \u001b[A\u001b[A\u001b[A\n",
      "\n",
      "py-xgboost-1.5.0     | 156 KB    | ########1  |  82% \u001b[A\n",
      "\n",
      "py-xgboost-1.5.0     | 156 KB    | #########2 |  92% \u001b[A\n",
      "\n",
      "\n",
      "\n",
      "libxgboost-1.5.0     | 1.3 MB    | #2         |  13% \u001b[A\u001b[A\u001b[A\n",
      "\n",
      "py-xgboost-1.5.0     | 156 KB    | ########## | 100% \u001b[A\n",
      "\n",
      "\n",
      "conda-22.11.1        | 908 KB    | ##1        |  21% \u001b[A\u001b[A\n",
      "\n",
      "\n",
      "\n",
      "libxgboost-1.5.0     | 1.3 MB    | #4         |  14% \u001b[A\u001b[A\u001b[A\n",
      "\n",
      "py-xgboost-1.5.0     | 156 KB    | ########## | 100% \u001b[A\n",
      "\n",
      "\n",
      "conda-22.11.1        | 908 KB    | ##2        |  23% \u001b[A\u001b[A\n",
      "\n",
      "\n",
      "\n",
      "libxgboost-1.5.0     | 1.3 MB    | #5         |  15% \u001b[A\u001b[A\u001b[A\n",
      "\n",
      "\n",
      "conda-22.11.1        | 908 KB    | ##6        |  26% \u001b[A\u001b[A\n",
      "\n",
      "\n",
      "conda-22.11.1        | 908 KB    | ##9        |  30% \u001b[A\u001b[A\n",
      "\n",
      "\n",
      "\n",
      "libxgboost-1.5.0     | 1.3 MB    | #6         |  16% \u001b[A\u001b[A\u001b[A\n",
      "\n",
      "\n",
      "conda-22.11.1        | 908 KB    | ###3       |  33% \u001b[A\u001b[A\n",
      "\n",
      "\n",
      "\n",
      "libxgboost-1.5.0     | 1.3 MB    | #8         |  19% \u001b[A\u001b[A\u001b[A\n",
      "\n",
      "\n",
      "conda-22.11.1        | 908 KB    | ###7       |  37% \u001b[A\u001b[A\n",
      "\n",
      "\n",
      "\n",
      "libxgboost-1.5.0     | 1.3 MB    | #9         |  20% \u001b[A\u001b[A\u001b[A\n",
      "\n",
      "\n",
      "conda-22.11.1        | 908 KB    | ####       |  41% \u001b[A\u001b[A\n",
      "\n",
      "\n",
      "\n",
      "\n",
      "xgboost-1.5.0        | 15 KB     | ########## | 100% \u001b[A\u001b[A\u001b[A\u001b[A\n",
      "\n",
      "\n",
      "conda-22.11.1        | 908 KB    | ####2      |  42% \u001b[A\u001b[A\n",
      "\n",
      "\n",
      "\n",
      "\n",
      "xgboost-1.5.0        | 15 KB     | ########## | 100% \u001b[A\u001b[A\u001b[A\u001b[A\n",
      "\n",
      "\n",
      "\n",
      "libxgboost-1.5.0     | 1.3 MB    | ##2        |  22% \u001b[A\u001b[A\u001b[A\n",
      "\n",
      "\n",
      "conda-22.11.1        | 908 KB    | ####4      |  44% \u001b[A\u001b[A\n",
      "\n",
      "\n",
      "\n",
      "libxgboost-1.5.0     | 1.3 MB    | ##4        |  25% \u001b[A\u001b[A\u001b[A\n",
      "\n",
      "\n",
      "conda-22.11.1        | 908 KB    | ####9      |  49% \u001b[A\u001b[A\n",
      "\n",
      "\n",
      "\n",
      "libxgboost-1.5.0     | 1.3 MB    | ##5        |  26% \u001b[A\u001b[A\u001b[A\n",
      "\n",
      "\n",
      "conda-22.11.1        | 908 KB    | #####2     |  53% \u001b[A\u001b[A\n",
      "\n",
      "\n",
      "\n",
      "libxgboost-1.5.0     | 1.3 MB    | ##6        |  27% \u001b[A\u001b[A\u001b[A\n",
      "\n",
      "\n",
      "\n",
      "libxgboost-1.5.0     | 1.3 MB    | ##8        |  28% \u001b[A\u001b[A\u001b[A\n",
      "\n",
      "\n",
      "conda-22.11.1        | 908 KB    | #####6     |  56% \u001b[A\u001b[A\n",
      "\n",
      "\n",
      "\n",
      "libxgboost-1.5.0     | 1.3 MB    | ##9        |  29% \u001b[A\u001b[A\u001b[A\n",
      "\n",
      "\n",
      "conda-22.11.1        | 908 KB    | #####9     |  60% \u001b[A\u001b[A\n",
      "\n",
      "\n",
      "\n",
      "libxgboost-1.5.0     | 1.3 MB    | ###        |  30% \u001b[A\u001b[A\u001b[A\n",
      "\n",
      "\n",
      "conda-22.11.1        | 908 KB    | ######3    |  63% \u001b[A\u001b[A\n",
      "\n",
      "\n",
      "conda-22.11.1        | 908 KB    | ######8    |  69% \u001b[A\u001b[A\n",
      "\n",
      "\n",
      "\n",
      "libxgboost-1.5.0     | 1.3 MB    | ###1       |  32% \u001b[A\u001b[A\u001b[A\n",
      "\n",
      "\n",
      "conda-22.11.1        | 908 KB    | #######2   |  72% \u001b[A\u001b[A\n",
      "\n",
      "\n",
      "conda-22.11.1        | 908 KB    | #######5   |  76% \u001b[A\u001b[A\n",
      "\n",
      "\n",
      "\n",
      "libxgboost-1.5.0     | 1.3 MB    | ###5       |  35% \u001b[A\u001b[A\u001b[A\n",
      "\n",
      "\n",
      "\n",
      "libxgboost-1.5.0     | 1.3 MB    | ###6       |  36% \u001b[A\u001b[A\u001b[A\n",
      "\n",
      "\n",
      "conda-22.11.1        | 908 KB    | #######9   |  79% \u001b[A\u001b[A\n",
      "\n",
      "\n",
      "conda-22.11.1        | 908 KB    | ########2  |  83% \u001b[A\u001b[A\n",
      "\n",
      "\n",
      "conda-22.11.1        | 908 KB    | ########6  |  86% \u001b[A\u001b[A\n",
      "\n",
      "\n",
      "\n",
      "libxgboost-1.5.0     | 1.3 MB    | ###8       |  39% \u001b[A\u001b[A\u001b[A\n",
      "\n",
      "\n",
      "conda-22.11.1        | 908 KB    | #########1 |  92% \u001b[A\u001b[A\n",
      "\n",
      "\n",
      "\n",
      "libxgboost-1.5.0     | 1.3 MB    | ####       |  41% \u001b[A\u001b[A\u001b[A\n",
      "\n",
      "\n",
      "conda-22.11.1        | 908 KB    | #########5 |  95% \u001b[A\u001b[A\n",
      "\n",
      "\n",
      "\n",
      "libxgboost-1.5.0     | 1.3 MB    | ####3      |  43% \u001b[A\u001b[A\u001b[A\n",
      "\n",
      "\n",
      "\n",
      "libxgboost-1.5.0     | 1.3 MB    | ####4      |  44% \u001b[A\u001b[A\u001b[A\n",
      "\n",
      "\n",
      "conda-22.11.1        | 908 KB    | ########## | 100% \u001b[A\u001b[A\n",
      "\n",
      "\n",
      "conda-22.11.1        | 908 KB    | ########## | 100% \u001b[A\u001b[A\n",
      "\n",
      "\n",
      "\n",
      "libxgboost-1.5.0     | 1.3 MB    | ####8      |  48% \u001b[A\u001b[A\u001b[A\n",
      "\n",
      "\n",
      "\n",
      "libxgboost-1.5.0     | 1.3 MB    | #####      |  50% \u001b[A\u001b[A\u001b[A\n",
      "\n",
      "\n",
      "\n",
      "libxgboost-1.5.0     | 1.3 MB    | #####1     |  52% \u001b[A\u001b[A\u001b[A\n",
      "\n",
      "\n",
      "\n",
      "libxgboost-1.5.0     | 1.3 MB    | #####2     |  53% \u001b[A\u001b[A\u001b[A\n",
      "\n",
      "\n",
      "\n",
      "libxgboost-1.5.0     | 1.3 MB    | #####3     |  54% \u001b[A\u001b[A\u001b[A\n",
      "\n",
      "\n",
      "\n",
      "libxgboost-1.5.0     | 1.3 MB    | #####5     |  55% \u001b[A\u001b[A\u001b[A\n",
      "\n",
      "\n",
      "\n",
      "libxgboost-1.5.0     | 1.3 MB    | #####6     |  56% \u001b[A\u001b[A\u001b[A\n",
      "\n",
      "\n",
      "\n",
      "libxgboost-1.5.0     | 1.3 MB    | #####7     |  57% \u001b[A\u001b[A\u001b[A\n",
      "\n",
      "\n",
      "\n",
      "libxgboost-1.5.0     | 1.3 MB    | #####8     |  59% \u001b[A\u001b[A\u001b[A\n",
      "\n",
      "\n",
      "\n",
      "libxgboost-1.5.0     | 1.3 MB    | ######     |  61% \u001b[A\u001b[A\u001b[A\n",
      "\n",
      "\n",
      "\n",
      "libxgboost-1.5.0     | 1.3 MB    | ######3    |  63% \u001b[A\u001b[A\u001b[A\n",
      "\n",
      "\n",
      "\n",
      "libxgboost-1.5.0     | 1.3 MB    | ######4    |  64% \u001b[A\u001b[A\u001b[A\n",
      "\n",
      "\n",
      "\n",
      "libxgboost-1.5.0     | 1.3 MB    | ######5    |  66% \u001b[A\u001b[A\u001b[A\n",
      "\n",
      "\n",
      "\n",
      "libxgboost-1.5.0     | 1.3 MB    | ######6    |  67% \u001b[A\u001b[A\u001b[A\n",
      "\n",
      "\n",
      "\n",
      "libxgboost-1.5.0     | 1.3 MB    | ######7    |  68% \u001b[A\u001b[A\u001b[A\n",
      "\n",
      "\n",
      "\n",
      "libxgboost-1.5.0     | 1.3 MB    | ######9    |  69% \u001b[A\u001b[A\u001b[A\n",
      "\n",
      "\n",
      "\n",
      "libxgboost-1.5.0     | 1.3 MB    | #######2   |  73% \u001b[A\u001b[A\u001b[A\n",
      "\n",
      "\n",
      "\n",
      "libxgboost-1.5.0     | 1.3 MB    | #######4   |  75% \u001b[A\u001b[A\u001b[A\n",
      "\n",
      "\n",
      "\n",
      "libxgboost-1.5.0     | 1.3 MB    | #######7   |  77% \u001b[A\u001b[A\u001b[A\n",
      "\n",
      "\n",
      "\n",
      "libxgboost-1.5.0     | 1.3 MB    | #######9   |  80% \u001b[A\u001b[A\u001b[A\n",
      "\n",
      "\n",
      "\n",
      "libxgboost-1.5.0     | 1.3 MB    | ########1  |  82% \u001b[A\u001b[A\u001b[A\n",
      "\n",
      "\n",
      "\n",
      "libxgboost-1.5.0     | 1.3 MB    | ########4  |  84% \u001b[A\u001b[A\u001b[A\n",
      "\n",
      "\n",
      "\n",
      "libxgboost-1.5.0     | 1.3 MB    | ########6  |  87% \u001b[A\u001b[A\u001b[A\n",
      "\n",
      "\n",
      "\n",
      "libxgboost-1.5.0     | 1.3 MB    | ########8  |  89% \u001b[A\u001b[A\u001b[A\n",
      "\n",
      "\n",
      "\n",
      "libxgboost-1.5.0     | 1.3 MB    | #########1 |  91% \u001b[A\u001b[A\u001b[A\n",
      "\n",
      "\n",
      "\n",
      "libxgboost-1.5.0     | 1.3 MB    | #########3 |  94% \u001b[A\u001b[A\u001b[A\n",
      "\n",
      "\n",
      "\n",
      "libxgboost-1.5.0     | 1.3 MB    | #########6 |  96% \u001b[A\u001b[A\u001b[A\n",
      "\n",
      "\n",
      "\n",
      "libxgboost-1.5.0     | 1.3 MB    | ########## | 100% \u001b[A\u001b[A\u001b[A\n",
      "\n",
      "\n",
      "\n",
      "libxgboost-1.5.0     | 1.3 MB    | ########## | 100% \u001b[A\u001b[A\u001b[A\n",
      "                                                     \n",
      "\n",
      "\n",
      "                                                     \u001b[A\n",
      "\n",
      "\n",
      "                                                     \u001b[A\u001b[A\n",
      "\n",
      "\n",
      "\n",
      "                                                     \u001b[A\u001b[A\u001b[A\n",
      "\n",
      "\n",
      "\n",
      "\n",
      "                                                     \u001b[A\u001b[A\u001b[A\u001b[A\n",
      "\n",
      "\n",
      "\n",
      "\n",
      "\n",
      "                                                     \u001b[A\u001b[A\u001b[A\u001b[A\u001b[A\n",
      "\n",
      "Preparing transaction: ...working... done\n",
      "Verifying transaction: ...working... done\n",
      "Executing transaction: ...working... done\n"
     ]
    }
   ],
   "source": [
    "conda install -c conda-forge xgboost"
   ]
  },
  {
   "cell_type": "code",
   "execution_count": 77,
   "metadata": {},
   "outputs": [
    {
     "data": {
      "text/plain": [
       "Pipeline(steps=[('ntf',\n",
       "                 <__main__.Numerical_Transformer object at 0x000001FCDB1537C0>),\n",
       "                ('norm', StandardScaler()),\n",
       "                ('xgb',\n",
       "                 XGBRegressor(base_score=0.5, booster='gbtree',\n",
       "                              colsample_bylevel=1, colsample_bynode=1,\n",
       "                              colsample_bytree=1, enable_categorical=False,\n",
       "                              gamma=0, gpu_id=-1, importance_type=None,\n",
       "                              interaction_constraints='', learning_rate=1,\n",
       "                              max_delta_step=0, max_depth=2, min_child_weight=1,\n",
       "                              missing=nan, monotone_constraints='()',\n",
       "                              n_estimators=2, n_jobs=16, num_parallel_tree=1,\n",
       "                              predictor='auto', random_state=0, reg_alpha=0,\n",
       "                              reg_lambda=1, scale_pos_weight=1, subsample=1,\n",
       "                              tree_method='exact', validate_parameters=1,\n",
       "                              verbosity=None))])"
      ]
     },
     "execution_count": 77,
     "metadata": {},
     "output_type": "execute_result"
    }
   ],
   "source": [
    "from xgboost import XGBRegressor\n",
    "\n",
    "steps = [('ntf', Numerical_Transformer()),\n",
    "         ('norm', StandardScaler()),\n",
    "         ('xgb', XGBRegressor(n_estimators=2, max_depth=2, learning_rate=1))]\n",
    "\n",
    "model = Pipeline(steps)\n",
    "\n",
    "model.fit(train_raw, y_train)\n"
   ]
  },
  {
   "cell_type": "markdown",
   "metadata": {},
   "source": [
    "<font color='red'>Assignment:</font> Calculate the train/test scores."
   ]
  },
  {
   "cell_type": "code",
   "execution_count": 78,
   "metadata": {},
   "outputs": [
    {
     "name": "stdout",
     "output_type": "stream",
     "text": [
      "train MAE: 1.05e+05\n",
      "train MSE: 2.65e+10\n",
      "train R2: 0.378\n",
      "train MAE: 1.31e+05\n",
      "train MSE: 5.71e+10\n",
      "train R2: 0.337\n"
     ]
    }
   ],
   "source": [
    "model.fit(train_raw, y_train)\n",
    "y_train_pred = model.predict(train_raw)\n",
    "print('train MAE: {0:.2e}'.format(mean_absolute_error(y_train, y_train_pred)))\n",
    "print('train MSE: {0:.2e}'.format(mean_squared_error(y_train, y_train_pred)))\n",
    "print('train R2: {0:.3f}'.format(r2_score(y_train, y_train_pred)))\n",
    "\n",
    "y_test_pred = model.predict(test_raw)\n",
    "print('train MAE: {0:.2e}'.format(mean_absolute_error(y_test, y_test_pred)))\n",
    "print('train MSE: {0:.2e}'.format(mean_squared_error(y_test, y_test_pred)))\n",
    "print('train R2: {0:.3f}'.format(r2_score(y_test, y_test_pred)))"
   ]
  },
  {
   "cell_type": "markdown",
   "metadata": {},
   "source": [
    "<font color='red'>Assignment:</font> Plot the feature importance in a bar chart."
   ]
  },
  {
   "cell_type": "code",
   "execution_count": 79,
   "metadata": {},
   "outputs": [
    {
     "data": {
      "text/plain": [
       "<BarContainer object of 5 artists>"
      ]
     },
     "execution_count": 79,
     "metadata": {},
     "output_type": "execute_result"
    },
    {
     "data": {
      "image/png": "[encoded data removed]",
      "text/plain": [
       "<Figure size 640x480 with 1 Axes>"
      ]
     },
     "metadata": {},
     "output_type": "display_data"
    }
   ],
   "source": [
    "plt.bar(['cost','weight','height','width','depth'], model[2].feature_importances_)"
   ]
  },
  {
   "cell_type": "markdown",
   "metadata": {},
   "source": [
    "<font color='red'>Assignment:</font> Tune hyperparameters with k-fold cross validation to optimize model performance."
   ]
  },
  {
   "cell_type": "code",
   "execution_count": 88,
   "metadata": {},
   "outputs": [],
   "source": [
    "#https://xgboost.readthedocs.io/en/stable/tutorials/param_tuning.html\n",
    "\n",
    "kf = KFold(n_splits=5, shuffle=True, random_state=2023)\n",
    "\n",
    "scorer_method = make_scorer(mean_squared_error, greater_is_better=False)\n",
    "\n",
    "steps = [('ntf', Numerical_Transformer()),\n",
    "         ('norm', StandardScaler()),\n",
    "         ('xgb', XGBRegressor())]\n",
    "\n",
    "\n",
    "model = Pipeline(steps)\n",
    "\n",
    "gamma = [x*0.1 for x in range(10)]\n",
    "max_depth = range(1, 8)\n",
    "min_child_weight = [0.1, 0.2, 0.5, 1.0, 2.0, 5.0, 10]\n",
    "subsample = [0.3, 0.5, 0.7]\n",
    "\n",
    "grid = dict()\n",
    "#grid['lr__alpha'] = lasso_alphas \n",
    "grid['xgb__gamma'] = gamma\n",
    "grid['xgb__max_depth'] = max_depth\n",
    "grid['xgb__min_child_weight'] = min_child_weight\n",
    "grid['xgb__subsample'] = subsample\n",
    "\n",
    "search = GridSearchCV(model, param_grid = grid, scoring = scorer_method, \\\n",
    "                      cv = kf, n_jobs = -1, error_score = np.NaN).fit(train_raw, y_train)"
   ]
  },
  {
   "cell_type": "code",
   "execution_count": 89,
   "metadata": {},
   "outputs": [
    {
     "name": "stdout",
     "output_type": "stream",
     "text": [
      "MAE: -27615090233.68605\n",
      "Config: {'xgb__gamma': 0.0, 'xgb__max_depth': 1, 'xgb__min_child_weight': 2.0, 'xgb__subsample': 0.5}\n"
     ]
    }
   ],
   "source": [
    "print('MAE: %.5f' % search.best_score_)\n",
    "print('Config: %s' % search.best_params_)"
   ]
  },
  {
   "cell_type": "code",
   "execution_count": 90,
   "metadata": {},
   "outputs": [
    {
     "name": "stdout",
     "output_type": "stream",
     "text": [
      "train MAE: 1.03e+05\n",
      "train MSE: 2.47e+10\n",
      "train R2: 0.420\n",
      "train MAE: 1.26e+05\n",
      "train MSE: 5.10e+10\n",
      "train R2: 0.408\n"
     ]
    }
   ],
   "source": [
    "y_train_pred = search.predict(train_raw)\n",
    "print('train MAE: {0:.2e}'.format(mean_absolute_error(y_train, y_train_pred)))\n",
    "print('train MSE: {0:.2e}'.format(mean_squared_error(y_train, y_train_pred)))\n",
    "print('train R2: {0:.3f}'.format(r2_score(y_train, y_train_pred)))\n",
    "\n",
    "y_test_pred = search.predict(test_raw)\n",
    "print('train MAE: {0:.2e}'.format(mean_absolute_error(y_test, y_test_pred)))\n",
    "print('train MSE: {0:.2e}'.format(mean_squared_error(y_test, y_test_pred)))\n",
    "print('train R2: {0:.3f}'.format(r2_score(y_test, y_test_pred)))"
   ]
  },
  {
   "cell_type": "markdown",
   "metadata": {},
   "source": [
    "<font color='red'>Question:</font> What are the hyper parameters which can effetively affect model performance? How do they affect the performance respectively?"
   ]
  },
  {
   "cell_type": "code",
   "execution_count": null,
   "metadata": {},
   "outputs": [],
   "source": [
    "# gamma, max_depth, min_child_weight and subsample are important parameters affect model performance. The first three parameters\n",
    "# control the complexity of the model, while the subsample add randomness in the training to make it robust to noise."
   ]
  },
  {
   "cell_type": "markdown",
   "metadata": {},
   "source": [
    "<font color='red'>Question:</font> What is the relationship and difference between Xgboost and gradient boosting trees? Why Xgboost performs better than graident boosting trees?"
   ]
  },
  {
   "cell_type": "code",
   "execution_count": null,
   "metadata": {},
   "outputs": [],
   "source": [
    "# Xgboost is an implement of gradient boosting trees algorithm. Xgboost minimizes a regularized (L1 or L2) objective function. \n",
    "# So Xgboost outperforms gradient boosting trees in handling overfitting."
   ]
  }
 ],
 "metadata": {
  "kernelspec": {
   "display_name": "Python 3 (ipykernel)",
   "language": "python",
   "name": "python3"
  },
  "language_info": {
   "codemirror_mode": {
    "name": "ipython",
    "version": 3
   },
   "file_extension": ".py",
   "mimetype": "text/x-python",
   "name": "python",
   "nbconvert_exporter": "python",
   "pygments_lexer": "ipython3",
   "version": "3.9.13"
  }
 },
 "nbformat": 4,
 "nbformat_minor": 2
}
