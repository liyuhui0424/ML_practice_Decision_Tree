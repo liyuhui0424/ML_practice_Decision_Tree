{
 "cells": [
  {
   "cell_type": "code",
   "execution_count": 2,
   "metadata": {},
   "outputs": [],
   "source": [
    "import pandas as pd\n",
    "\n",
    "df = pd.read_csv('../data/sales.csv')\n",
    "df.dropna(subset=['price'], inplace=True)"
   ]
  },
  {
   "cell_type": "code",
   "execution_count": 3,
   "metadata": {},
   "outputs": [
    {
     "data": {
      "text/html": [
       "<div>\n",
       "<style scoped>\n",
       "    .dataframe tbody tr th:only-of-type {\n",
       "        vertical-align: middle;\n",
       "    }\n",
       "\n",
       "    .dataframe tbody tr th {\n",
       "        vertical-align: top;\n",
       "    }\n",
       "\n",
       "    .dataframe thead th {\n",
       "        text-align: right;\n",
       "    }\n",
       "</style>\n",
       "<table border=\"1\" class=\"dataframe\">\n",
       "  <thead>\n",
       "    <tr style=\"text-align: right;\">\n",
       "      <th></th>\n",
       "      <th>cost</th>\n",
       "      <th>price</th>\n",
       "      <th>weight</th>\n",
       "      <th>purchase_date</th>\n",
       "      <th>product_type</th>\n",
       "      <th>product_level</th>\n",
       "      <th>maker</th>\n",
       "      <th>ingredient</th>\n",
       "      <th>height</th>\n",
       "      <th>width</th>\n",
       "      <th>depth</th>\n",
       "    </tr>\n",
       "  </thead>\n",
       "  <tbody>\n",
       "    <tr>\n",
       "      <th>0</th>\n",
       "      <td>$333k</td>\n",
       "      <td>$300,492</td>\n",
       "      <td>3 Ton 90 Kg</td>\n",
       "      <td>Dec 19 2008</td>\n",
       "      <td>Q,B</td>\n",
       "      <td>advanced</td>\n",
       "      <td>M14122</td>\n",
       "      <td>IN732052,IN732053</td>\n",
       "      <td>2.76 meters</td>\n",
       "      <td>97 cm</td>\n",
       "      <td>26 cm</td>\n",
       "    </tr>\n",
       "    <tr>\n",
       "      <th>1</th>\n",
       "      <td>NaN</td>\n",
       "      <td>$430,570</td>\n",
       "      <td>3 Ton 30 Kg</td>\n",
       "      <td>Sep 10 1997</td>\n",
       "      <td>J,D</td>\n",
       "      <td>basic</td>\n",
       "      <td>NaN</td>\n",
       "      <td>IN732054,IN732055,IN732056,IN732057,IN732058</td>\n",
       "      <td>2.67 meters</td>\n",
       "      <td>98 cm</td>\n",
       "      <td>26 cm</td>\n",
       "    </tr>\n",
       "    <tr>\n",
       "      <th>2</th>\n",
       "      <td>$270k</td>\n",
       "      <td>$213,070</td>\n",
       "      <td>3 Ton 40 Kg</td>\n",
       "      <td>Sep 05 2001</td>\n",
       "      <td>J,D</td>\n",
       "      <td>basic</td>\n",
       "      <td>NaN</td>\n",
       "      <td>IN732054,IN732059,IN732060</td>\n",
       "      <td>3.0 meters</td>\n",
       "      <td>93 cm</td>\n",
       "      <td>24 cm</td>\n",
       "    </tr>\n",
       "    <tr>\n",
       "      <th>3</th>\n",
       "      <td>NaN</td>\n",
       "      <td>$229,174</td>\n",
       "      <td>3 Ton 50 Kg</td>\n",
       "      <td>Dec 23 2016</td>\n",
       "      <td>U</td>\n",
       "      <td>advanced</td>\n",
       "      <td>M14123</td>\n",
       "      <td>IN732061,IN732062,IN732063</td>\n",
       "      <td>2.5 meters</td>\n",
       "      <td>102 cm</td>\n",
       "      <td>27 cm</td>\n",
       "    </tr>\n",
       "    <tr>\n",
       "      <th>4</th>\n",
       "      <td>$97k</td>\n",
       "      <td>$122,659</td>\n",
       "      <td>2 Ton 970 Kg</td>\n",
       "      <td>Jan 12 2000</td>\n",
       "      <td>D,R</td>\n",
       "      <td>advanced</td>\n",
       "      <td>NaN</td>\n",
       "      <td>IN732064,IN732065,IN732066</td>\n",
       "      <td>2.47 meters</td>\n",
       "      <td>101 cm</td>\n",
       "      <td>26 cm</td>\n",
       "    </tr>\n",
       "  </tbody>\n",
       "</table>\n",
       "</div>"
      ],
      "text/plain": [
       "    cost     price        weight purchase_date product_type product_level  \\\n",
       "0  $333k  $300,492   3 Ton 90 Kg   Dec 19 2008          Q,B      advanced   \n",
       "1    NaN  $430,570   3 Ton 30 Kg   Sep 10 1997          J,D         basic   \n",
       "2  $270k  $213,070   3 Ton 40 Kg   Sep 05 2001          J,D         basic   \n",
       "3    NaN  $229,174   3 Ton 50 Kg   Dec 23 2016            U      advanced   \n",
       "4   $97k  $122,659  2 Ton 970 Kg   Jan 12 2000          D,R      advanced   \n",
       "\n",
       "    maker                                    ingredient       height   width  \\\n",
       "0  M14122                             IN732052,IN732053  2.76 meters   97 cm   \n",
       "1     NaN  IN732054,IN732055,IN732056,IN732057,IN732058  2.67 meters   98 cm   \n",
       "2     NaN                    IN732054,IN732059,IN732060   3.0 meters   93 cm   \n",
       "3  M14123                    IN732061,IN732062,IN732063   2.5 meters  102 cm   \n",
       "4     NaN                    IN732064,IN732065,IN732066  2.47 meters  101 cm   \n",
       "\n",
       "   depth  \n",
       "0  26 cm  \n",
       "1  26 cm  \n",
       "2  24 cm  \n",
       "3  27 cm  \n",
       "4  26 cm  "
      ]
     },
     "execution_count": 3,
     "metadata": {},
     "output_type": "execute_result"
    }
   ],
   "source": [
    "df.head()"
   ]
  },
  {
   "cell_type": "code",
   "execution_count": 4,
   "metadata": {},
   "outputs": [],
   "source": [
    "df['year'] = pd.to_datetime(df.purchase_date).dt.year\n",
    "train_raw = df[df.year < 2015].reset_index(drop=True)\n",
    "test_raw = df[df.year >= 2015].reset_index(drop=True)"
   ]
  },
  {
   "cell_type": "markdown",
   "metadata": {},
   "source": [
    "# 1. Decision Tree model with one feature"
   ]
  },
  {
   "cell_type": "markdown",
   "metadata": {},
   "source": [
    "<font color='red'>Assignment:</font> Build a pipeline to predict **price** with **cost** using **DecisionTreeRegressor**."
   ]
  },
  {
   "cell_type": "code",
   "execution_count": 5,
   "metadata": {},
   "outputs": [],
   "source": [
    "y_train = train_raw['price'].map(lambda x: x if type(x) == float else float(x.strip('$').replace(',', '')))\n",
    "y_test = test_raw['price'].map(lambda x: x if type(x) == float else float(x.strip('$').replace(',', '')))\n",
    "\n",
    "\n",
    "class Numerical_Transformer(object):\n",
    "    def fit(self, X, y=None):\n",
    "        self.mean = {}\n",
    "        df = pd.DataFrame()        \n",
    "        df['cost'] = X['cost'].map(lambda x: x if type(x) == float else float(x.strip('$').strip('k'))*1000)\n",
    "        self.mean['cost'] = df['cost'].mean()\n",
    "        \n",
    "    def transform(self, X, y=None):\n",
    "        df = pd.DataFrame()\n",
    "        df['cost'] = X['cost'].map(lambda x: x if type(x) == float else float(x.strip('$').strip('k'))*1000)\n",
    "        return df.fillna(self.mean)\n",
    "    \n",
    "    def fit_transform(self, X, y=None):\n",
    "        self.fit(X)\n",
    "        return self.transform(X)"
   ]
  },
  {
   "cell_type": "code",
   "execution_count": 6,
   "metadata": {},
   "outputs": [
    {
     "data": {
      "text/plain": [
       "Pipeline(steps=[('ntf',\n",
       "                 <__main__.Numerical_Transformer object at 0x000001ABF28B0CD0>),\n",
       "                ('dtr', DecisionTreeRegressor(max_depth=3))])"
      ]
     },
     "execution_count": 6,
     "metadata": {},
     "output_type": "execute_result"
    }
   ],
   "source": [
    "from sklearn.tree import DecisionTreeRegressor\n",
    "from sklearn.metrics import mean_absolute_error, mean_squared_error, r2_score\n",
    "from sklearn.pipeline import Pipeline\n",
    "\n",
    "steps = [('ntf', Numerical_Transformer()),\n",
    "         ('dtr', DecisionTreeRegressor(max_depth=3))]\n",
    "\n",
    "model = Pipeline(steps)\n",
    "\n",
    "model.fit(train_raw, y_train)"
   ]
  },
  {
   "cell_type": "markdown",
   "metadata": {},
   "source": [
    "<font color='red'>Assignment:</font> Calculate train/test scores of this model."
   ]
  },
  {
   "cell_type": "code",
   "execution_count": 7,
   "metadata": {},
   "outputs": [
    {
     "name": "stdout",
     "output_type": "stream",
     "text": [
      "train MAE: 1.06e+05\n",
      "train MSE: 2.70e+10\n",
      "train R2: 0.367\n",
      "train MAE: 1.28e+05\n",
      "train MSE: 5.24e+10\n",
      "train R2: 0.392\n"
     ]
    }
   ],
   "source": [
    "y_train_pred = model.predict(train_raw)\n",
    "print('train MAE: {0:.2e}'.format(mean_absolute_error(y_train, y_train_pred)))\n",
    "print('train MSE: {0:.2e}'.format(mean_squared_error(y_train, y_train_pred)))\n",
    "print('train R2: {0:.3f}'.format(r2_score(y_train, y_train_pred)))\n",
    "\n",
    "y_test_pred = model.predict(test_raw)\n",
    "print('train MAE: {0:.2e}'.format(mean_absolute_error(y_test, y_test_pred)))\n",
    "print('train MSE: {0:.2e}'.format(mean_squared_error(y_test, y_test_pred)))\n",
    "print('train R2: {0:.3f}'.format(r2_score(y_test, y_test_pred)))"
   ]
  },
  {
   "cell_type": "markdown",
   "metadata": {},
   "source": [
    "<font color='red'>Assignment:</font> Plot the predcited **price** against **cost**."
   ]
  },
  {
   "cell_type": "code",
   "execution_count": 8,
   "metadata": {},
   "outputs": [],
   "source": [
    "import matplotlib.pylab as plt\n",
    "%matplotlib inline\n",
    "\n",
    "import numpy as np\n",
    "\n",
    "def plot_cost_price(cost, price, model):\n",
    "    cost_raw = cost.map(lambda x: x if type(x) == float else float(x.strip('$').strip('k'))*1000)\n",
    "    plt.scatter(cost_raw, price, alpha=0.3)\n",
    "    #x = np.linspace(0, 1e6)\n",
    "    #y = model.predict(x.reshape(-1,1))\n",
    "    df = pd.DataFrame()\n",
    "    x = np.linspace(0, 1e6)\n",
    "    df['cost'] = x\n",
    "    y = model.predict(df)\n",
    "    plt.plot(x, y, color='r')\n",
    "    plt.xlabel('cost')\n",
    "    plt.ylabel('price')\n",
    "    plt.xlim([0,1e6])\n",
    "    plt.ylim([0,2e6])\n",
    "    plt.show()"
   ]
  },
  {
   "cell_type": "code",
   "execution_count": 9,
   "metadata": {},
   "outputs": [
    {
     "data": {
      "image/png": "[encoded data removed]",
      "text/plain": [
       "<Figure size 640x480 with 1 Axes>"
      ]
     },
     "metadata": {},
     "output_type": "display_data"
    }
   ],
   "source": [
    "plot_cost_price(train_raw.cost, y_train, model)"
   ]
  },
  {
   "cell_type": "markdown",
   "metadata": {},
   "source": [
    "<font color='red'>Question:</font> Does the decision tree model perform better than the linear regression model purely based on **cost**? Why is that?"
   ]
  },
  {
   "cell_type": "code",
   "execution_count": 10,
   "metadata": {},
   "outputs": [
    {
     "name": "stdout",
     "output_type": "stream",
     "text": [
      "train MAE: 1.15e+05\n",
      "train MSE: 2.96e+10\n",
      "train R2: 0.306\n",
      "train MAE: 1.44e+05\n",
      "train MSE: 5.62e+10\n",
      "train R2: 0.348\n"
     ]
    }
   ],
   "source": [
    "from sklearn.linear_model import LinearRegression\n",
    "\n",
    "steps = [('ntf', Numerical_Transformer()),\n",
    "         ('lr', LinearRegression())]\n",
    "\n",
    "model = Pipeline(steps)\n",
    "\n",
    "model.fit(train_raw, y_train)\n",
    "y_train_pred = model.predict(train_raw)\n",
    "print('train MAE: {0:.2e}'.format(mean_absolute_error(y_train, y_train_pred)))\n",
    "print('train MSE: {0:.2e}'.format(mean_squared_error(y_train, y_train_pred)))\n",
    "print('train R2: {0:.3f}'.format(r2_score(y_train, y_train_pred)))\n",
    "\n",
    "y_test_pred = model.predict(test_raw)\n",
    "print('train MAE: {0:.2e}'.format(mean_absolute_error(y_test, y_test_pred)))\n",
    "print('train MSE: {0:.2e}'.format(mean_squared_error(y_test, y_test_pred)))\n",
    "print('train R2: {0:.3f}'.format(r2_score(y_test, y_test_pred)))"
   ]
  },
  {
   "cell_type": "code",
   "execution_count": 12,
   "metadata": {},
   "outputs": [],
   "source": [
    "# Decision tree model performs better than the linear regression model. That is because the decision tree algorithm is\n",
    "# performed to minimize the cost function (sqaured root here)"
   ]
  },
  {
   "cell_type": "markdown",
   "metadata": {},
   "source": [
    "<font color='red'>Question:</font> How does decision tree work? How is branch split?"
   ]
  },
  {
   "cell_type": "code",
   "execution_count": 13,
   "metadata": {},
   "outputs": [],
   "source": [
    "# Decisoin tree is a flowchart-like tree sturcture. Each internal node denotes a test on an attribute, each branch represents \n",
    "# an outcome of the test, each leaf node represents a class label.\n",
    "# The branch is split dependes on the outcome of a test."
   ]
  },
  {
   "cell_type": "markdown",
   "metadata": {},
   "source": [
    "# 2. Decision Tree model with multiple features"
   ]
  },
  {
   "cell_type": "markdown",
   "metadata": {},
   "source": [
    "<font color='red'>Assignment:</font> Build a decision-tree pipeline to predict **price** with **cost**, **weight**, **height**, **width**, **depth**, and **volumn**."
   ]
  },
  {
   "cell_type": "code",
   "execution_count": 11,
   "metadata": {},
   "outputs": [],
   "source": [
    "def weight2num(x):\n",
    "    \"\"\"\n",
    "    This function transform weight string to numerical value.\n",
    "    \"\"\"\n",
    "    if type(x) == str: \n",
    "        y = x.split(\" Ton \")    \n",
    "        return float(y[0]) * 1000 + float(y[1].replace(' Kg',''))\n",
    "    else:\n",
    "        return x\n",
    "\n",
    "\n",
    "class Numerical_Transformer(object):\n",
    "    def fit(self, X, y=None):\n",
    "        self.mean = {}\n",
    "        df = pd.DataFrame()        \n",
    "        df['cost'] = X['cost'].map(lambda x: x if type(x) == float else float(x.strip('$').strip('k'))*1000)\n",
    "        self.mean['cost'] = df['cost'].mean()\n",
    "        df['weight'] = X['weight'].map(weight2num)\n",
    "        self.mean['weight'] = df['weight'].mean()\n",
    "        df['height'] = X['height'].map(lambda x: x if type(x) == float else float(x.replace('meters', '')))\n",
    "        self.mean['height'] = df['height'].mean()\n",
    "        df['width'] = X['width'].map(lambda x: x if type(x) == float else float(x.replace('cm', '')))\n",
    "        self.mean['width'] = df['width'].mean()\n",
    "        df['depth'] = X['depth'].map(lambda x: x if type(x) == float else float(x.replace('cm', '')))\n",
    "        self.mean['depth'] = df['depth'].mean()\n",
    "        \n",
    "    def transform(self, X, y=None):\n",
    "        df = pd.DataFrame()\n",
    "        df['cost'] = X['cost'].map(lambda x: x if type(x) == float else float(x.strip('$').strip('k'))*1000)\n",
    "        df['weight'] = X['weight'].map(weight2num)\n",
    "        df['height'] = X['height'].map(lambda x: x if type(x) == float else float(x.replace('meters', '')))\n",
    "        df['width'] = X['width'].map(lambda x: x if type(x) == float else float(x.replace('cm', '')))\n",
    "        df['depth'] = X['depth'].map(lambda x: x if type(x) == float else float(x.replace('cm', '')))\n",
    "        return df.fillna(self.mean)\n",
    "    \n",
    "    def fit_transform(self, X, y=None):\n",
    "        self.fit(X)\n",
    "        return self.transform(X)\n",
    "\n"
   ]
  },
  {
   "cell_type": "code",
   "execution_count": 12,
   "metadata": {},
   "outputs": [
    {
     "data": {
      "text/plain": [
       "Pipeline(steps=[('ntf',\n",
       "                 <__main__.Numerical_Transformer object at 0x000001ABF63EF910>),\n",
       "                ('norm', StandardScaler()),\n",
       "                ('dtr', DecisionTreeRegressor(max_depth=3))])"
      ]
     },
     "execution_count": 12,
     "metadata": {},
     "output_type": "execute_result"
    }
   ],
   "source": [
    "from sklearn.preprocessing import StandardScaler\n",
    "\n",
    "steps = [('ntf', Numerical_Transformer()),\n",
    "         ('norm', StandardScaler()),\n",
    "         ('dtr', DecisionTreeRegressor(max_depth=3))]\n",
    "\n",
    "model = Pipeline(steps)\n",
    "\n",
    "model.fit(train_raw, y_train)"
   ]
  },
  {
   "cell_type": "markdown",
   "metadata": {},
   "source": [
    "<font color='red'>Assignment:</font> Calculate the train/test scores."
   ]
  },
  {
   "cell_type": "code",
   "execution_count": 13,
   "metadata": {},
   "outputs": [
    {
     "name": "stdout",
     "output_type": "stream",
     "text": [
      "train MAE: 1.05e+05\n",
      "train MSE: 2.62e+10\n",
      "train R2: 0.386\n",
      "train MAE: 1.33e+05\n",
      "train MSE: 5.67e+10\n",
      "train R2: 0.342\n"
     ]
    }
   ],
   "source": [
    "model.fit(train_raw, y_train)\n",
    "y_train_pred = model.predict(train_raw)\n",
    "print('train MAE: {0:.2e}'.format(mean_absolute_error(y_train, y_train_pred)))\n",
    "print('train MSE: {0:.2e}'.format(mean_squared_error(y_train, y_train_pred)))\n",
    "print('train R2: {0:.3f}'.format(r2_score(y_train, y_train_pred)))\n",
    "\n",
    "y_test_pred = model.predict(test_raw)\n",
    "print('train MAE: {0:.2e}'.format(mean_absolute_error(y_test, y_test_pred)))\n",
    "print('train MSE: {0:.2e}'.format(mean_squared_error(y_test, y_test_pred)))\n",
    "print('train R2: {0:.3f}'.format(r2_score(y_test, y_test_pred)))"
   ]
  },
  {
   "cell_type": "markdown",
   "metadata": {},
   "source": [
    "<font color='red'>Assignment:</font> Plot the feature importance in a bar chart."
   ]
  },
  {
   "cell_type": "code",
   "execution_count": 14,
   "metadata": {},
   "outputs": [
    {
     "data": {
      "text/plain": [
       "array([0.93305642, 0.06694358, 0.        , 0.        , 0.        ])"
      ]
     },
     "execution_count": 14,
     "metadata": {},
     "output_type": "execute_result"
    }
   ],
   "source": [
    "model[2].feature_importances_"
   ]
  },
  {
   "cell_type": "markdown",
   "metadata": {},
   "source": [
    "<font color='red'>Question:</font> How the feature importance values are calculated?"
   ]
  },
  {
   "cell_type": "code",
   "execution_count": null,
   "metadata": {},
   "outputs": [],
   "source": [
    "# Feature importance of a feature in a decition tree is the sum of node importance of all nodes using that feature as branching \n",
    "# criteria. The node importance for a node in the regression decision tree is defined as the reduction of mean squared error \n",
    "# after appling the splitting cirteria in the node."
   ]
  },
  {
   "cell_type": "markdown",
   "metadata": {},
   "source": [
    "<font color='red'>Assignment:</font> Retrain the model and rerun the above steps to see the changes in the results."
   ]
  },
  {
   "cell_type": "code",
   "execution_count": 15,
   "metadata": {},
   "outputs": [
    {
     "name": "stdout",
     "output_type": "stream",
     "text": [
      "train MAE: 1.05e+05\n",
      "train MSE: 2.62e+10\n",
      "train R2: 0.386\n",
      "train MAE: 1.33e+05\n",
      "train MSE: 5.67e+10\n",
      "train R2: 0.342\n"
     ]
    },
    {
     "data": {
      "text/plain": [
       "array([0.93305642, 0.06694358])"
      ]
     },
     "execution_count": 15,
     "metadata": {},
     "output_type": "execute_result"
    }
   ],
   "source": [
    "class Numerical_Transformer1(object):\n",
    "    def fit(self, X, y=None):\n",
    "        self.mean = {}\n",
    "        df = pd.DataFrame()        \n",
    "        df['cost'] = X['cost'].map(lambda x: x if type(x) == float else float(x.strip('$').strip('k'))*1000)\n",
    "        self.mean['cost'] = df['cost'].mean()\n",
    "        df['weight'] = X['weight'].map(weight2num)\n",
    "        self.mean['weight'] = df['weight'].mean()\n",
    "        \n",
    "    def transform(self, X, y=None):\n",
    "        df = pd.DataFrame()\n",
    "        df['cost'] = X['cost'].map(lambda x: x if type(x) == float else float(x.strip('$').strip('k'))*1000)\n",
    "        df['weight'] = X['weight'].map(weight2num)\n",
    "        return df.fillna(self.mean)\n",
    "    \n",
    "    def fit_transform(self, X, y=None):\n",
    "        self.fit(X)\n",
    "        return self.transform(X)\n",
    "\n",
    "\n",
    "\n",
    "steps = [('ntf', Numerical_Transformer1()),\n",
    "         ('norm', StandardScaler()),\n",
    "         ('dtr', DecisionTreeRegressor(max_depth=3, random_state = 109))]\n",
    "\n",
    "model = Pipeline(steps)\n",
    "\n",
    "\n",
    "model.fit(train_raw, y_train)\n",
    "\n",
    "model.fit(train_raw, y_train)\n",
    "y_train_pred = model.predict(train_raw)\n",
    "print('train MAE: {0:.2e}'.format(mean_absolute_error(y_train, y_train_pred)))\n",
    "print('train MSE: {0:.2e}'.format(mean_squared_error(y_train, y_train_pred)))\n",
    "print('train R2: {0:.3f}'.format(r2_score(y_train, y_train_pred)))\n",
    "\n",
    "y_test_pred = model.predict(test_raw)\n",
    "print('train MAE: {0:.2e}'.format(mean_absolute_error(y_test, y_test_pred)))\n",
    "print('train MSE: {0:.2e}'.format(mean_squared_error(y_test, y_test_pred)))\n",
    "print('train R2: {0:.3f}'.format(r2_score(y_test, y_test_pred)))\n",
    "\n",
    "model[2].feature_importances_"
   ]
  },
  {
   "cell_type": "markdown",
   "metadata": {},
   "source": [
    "<font color='red'>Question:</font> Do you see any problems with this model? Why is that?"
   ]
  },
  {
   "cell_type": "code",
   "execution_count": null,
   "metadata": {},
   "outputs": [],
   "source": [
    "# NO"
   ]
  },
  {
   "cell_type": "markdown",
   "metadata": {},
   "source": [
    "# 3. Hyperparameter tuning"
   ]
  },
  {
   "cell_type": "markdown",
   "metadata": {},
   "source": [
    "<font color='red'>Assignment:</font> Tune hyperparameters with k-fold cross validation to optimize model performance."
   ]
  },
  {
   "cell_type": "code",
   "execution_count": 56,
   "metadata": {},
   "outputs": [],
   "source": [
    "from sklearn.model_selection import KFold\n",
    "from sklearn.model_selection import GridSearchCV\n",
    "from sklearn.metrics import make_scorer\n",
    "\n",
    "kf = KFold(n_splits=5, shuffle=True, random_state=2023)\n",
    "\n",
    "scorer_method = make_scorer(mean_squared_error, greater_is_better=False)\n",
    "\n",
    "steps = [('ntf', Numerical_Transformer()),\n",
    "         ('norm', StandardScaler()),\n",
    "         ('dtr', DecisionTreeRegressor())]\n",
    "\n",
    "model = Pipeline(steps)\n",
    "\n",
    "max_depths = range(1, 10)\n",
    "min_samples_splits = range(2, 10)\n",
    "\n",
    "grid = dict()\n",
    "#grid['lr__alpha'] = lasso_alphas \n",
    "grid['dtr__max_depth'] = max_depths \n",
    "grid['dtr__min_samples_split'] = min_samples_splits \n",
    "\n",
    "\n",
    "search = GridSearchCV(model, param_grid = grid, scoring = scorer_method, \\\n",
    "                      cv = kf, n_jobs = -1, error_score = np.NaN).fit(train_raw, y_train)\n"
   ]
  },
  {
   "cell_type": "code",
   "execution_count": 57,
   "metadata": {},
   "outputs": [
    {
     "name": "stdout",
     "output_type": "stream",
     "text": [
      "MAE: -28770867293.87294\n",
      "Config: {'dtr__max_depth': 3, 'dtr__min_samples_split': 2}\n"
     ]
    }
   ],
   "source": [
    "print('MAE: %.5f' % search.best_score_)\n",
    "print('Config: %s' % search.best_params_)"
   ]
  },
  {
   "cell_type": "code",
   "execution_count": 58,
   "metadata": {},
   "outputs": [
    {
     "name": "stdout",
     "output_type": "stream",
     "text": [
      "train MAE: 1.05e+05\n",
      "train MSE: 2.62e+10\n",
      "train R2: 0.386\n",
      "train MAE: 1.33e+05\n",
      "train MSE: 5.67e+10\n",
      "train R2: 0.342\n"
     ]
    }
   ],
   "source": [
    "y_train_pred = search.predict(train_raw)\n",
    "print('train MAE: {0:.2e}'.format(mean_absolute_error(y_train, y_train_pred)))\n",
    "print('train MSE: {0:.2e}'.format(mean_squared_error(y_train, y_train_pred)))\n",
    "print('train R2: {0:.3f}'.format(r2_score(y_train, y_train_pred)))\n",
    "\n",
    "y_test_pred = search.predict(test_raw)\n",
    "print('train MAE: {0:.2e}'.format(mean_absolute_error(y_test, y_test_pred)))\n",
    "print('train MSE: {0:.2e}'.format(mean_squared_error(y_test, y_test_pred)))\n",
    "print('train R2: {0:.3f}'.format(r2_score(y_test, y_test_pred)))"
   ]
  },
  {
   "cell_type": "markdown",
   "metadata": {},
   "source": [
    "<font color='red'>Question:</font> What are the hyper parameters which can effetively affect model performance? How do they affect the performance respectively?"
   ]
  },
  {
   "cell_type": "code",
   "execution_count": null,
   "metadata": {},
   "outputs": [],
   "source": [
    "# One hyper parameters is max_depth, it controls the complexity of the model\n",
    "# The other is min_samples_split, it can controls the rigidity of the fitting\n",
    "# Both must be chosen carefully to prevent under fitting or over-fitting."
   ]
  }
 ],
 "metadata": {
  "kernelspec": {
   "display_name": "Python 3 (ipykernel)",
   "language": "python",
   "name": "python3"
  },
  "language_info": {
   "codemirror_mode": {
    "name": "ipython",
    "version": 3
   },
   "file_extension": ".py",
   "mimetype": "text/x-python",
   "name": "python",
   "nbconvert_exporter": "python",
   "pygments_lexer": "ipython3",
   "version": "3.9.13"
  }
 },
 "nbformat": 4,
 "nbformat_minor": 2
}
